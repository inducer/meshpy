{
 "cells": [
  {
   "cell_type": "markdown",
   "id": "82dbbafd-ed23-43fd-924b-1916d0ea7dca",
   "metadata": {},
   "source": [
    "## Making Meshes with MeshPy ( using meshtools )\n",
    "\n",
    "Gallery with short code comments\n",
    "\n",
    "by\n",
    "\n",
    "Jürgen Weizenecker\n"
   ]
  },
  {
   "cell_type": "code",
   "execution_count": 26,
   "id": "458bfac7-3661-433f-93fc-64d283245089",
   "metadata": {},
   "outputs": [],
   "source": [
    "import jw_meshtools as mt\n",
    "import matplotlib.pyplot as plt\n",
    "import numpy as np\n",
    "import numpy.linalg as la\n",
    "\n",
    "import meshpy.triangle as triangle\n",
    "\n",
    "\n",
    "length = 0.3"
   ]
  },
  {
   "cell_type": "markdown",
   "id": "b89c83ea-18f5-4209-bba5-bf3a6e3d1a06",
   "metadata": {},
   "source": [
    "### Figure 1"
   ]
  },
  {
   "cell_type": "code",
   "execution_count": null,
   "id": "cf6de630-1bb1-4196-af4e-a070d464ddc0",
   "metadata": {},
   "outputs": [],
   "source": [
    "# Simple mesh rectangle\n",
    "\n",
    "# Define closed boundary around a 2D region\n",
    "p, v = mt.RectangleSegments([-1.0, -1.0], [2.5, 3.0], edge_length=length)\n",
    "# Make mesh of this region\n",
    "\n",
    "poi, tri, BouE, li_BE, bou_elem, CuE, li_CE = mt.DoTriMesh(p, v, edge_length=length)\n",
    "\n",
    "print(\"Points, \", poi[0:5], \"....\", flush=True)\n",
    "print(\"Elements, \", tri[0:5], \"...\", flush=True)\n",
    "print(\"Boundary edges\", BouE, flush=True)\n",
    "print(\"List for boundary edges\", li_BE, flush=True)\n",
    "print(\"Boundary triangles\", bou_elem, flush=True)\n",
    "\n",
    "# Help\n",
    "print(\"\\n\\n################  Help string :\")\n",
    "print(mt.RectangleSegments.__doc__)\n",
    "print(mt.DoTriMesh.__doc__)"
   ]
  },
  {
   "cell_type": "code",
   "execution_count": null,
   "id": "32664d46-c5e3-48b7-ab03-bdc6d5d05fb2",
   "metadata": {},
   "outputs": [],
   "source": [
    "# Simple mesh rectangle with numbers\n",
    "p, v = mt.RectangleSegments([-1.0, -1.0], [2.5, 3.0], edge_length=3 * length)\n",
    "poi, tri, BouE, li_BE, bou_elem, CuE, li_CE = mt.DoTriMesh(\n",
    "    p, v, edge_length=3 * length, show=False\n",
    ")\n",
    "\n",
    "mt.PlotMeshNumbers(poi, tri)"
   ]
  },
  {
   "cell_type": "markdown",
   "id": "ceda42b2-ae3e-4e76-a085-c743d4f0679f",
   "metadata": {},
   "source": [
    "### Figure 2"
   ]
  },
  {
   "cell_type": "code",
   "execution_count": null,
   "id": "3c1294da-6150-4718-9d5f-6da18e40d777",
   "metadata": {},
   "outputs": [],
   "source": [
    "# construct boundary curve from simple lines\n",
    "p1, v1 = mt.LineSegments([-0.5, 0.5], [-1, -1], edge_length=length / 5)\n",
    "p2, v2 = mt.LineSegments([-1, -1], [0.0, 0.5], edge_length=length / 5)\n",
    "p3, v3 = mt.LineSegments([0.0, 0.5], [1, 1], edge_length=length / 7)\n",
    "p4, v4 = mt.LineSegments([1, 1], [-0.5, 0.5], edge_length=length / 7)\n",
    "p, v = mt.AddMultipleSegments(p1, p2, p3, p4)\n",
    "\n",
    "poi, tri, BouE, li_BE, bou_elem, CuE, li_CE = mt.DoTriMesh(p, v, edge_length=length)"
   ]
  },
  {
   "cell_type": "markdown",
   "id": "9a442dae-a4b5-4234-8148-6829b23edd74",
   "metadata": {},
   "source": [
    "### Figure 3"
   ]
  },
  {
   "cell_type": "code",
   "execution_count": null,
   "id": "97c236dd-3cf2-4fc0-802f-9f0c6689f97d",
   "metadata": {},
   "outputs": [],
   "source": [
    "# circle as boundary curve\n",
    "p, v = mt.CircleSegments([1, 2], 2, edge_length=length)\n",
    "mt.DoTriMesh(p, v, edge_length=length)\n",
    "print(mt.CircleSegments.__doc__)"
   ]
  },
  {
   "cell_type": "markdown",
   "id": "41f16cdb-d126-4e0e-b9e9-3a23eca164f9",
   "metadata": {},
   "source": [
    "### Figure 4"
   ]
  },
  {
   "cell_type": "code",
   "execution_count": null,
   "id": "1780dc04-6ddf-47d3-bfdf-9add14c1b60d",
   "metadata": {},
   "outputs": [],
   "source": [
    "#\n",
    "p1, v1 = mt.LineSegments([2, 2], [-1, -3], edge_length=length)\n",
    "p2, v2 = mt.LineSegments([-1, -4], [3, -1], num_points=10)\n",
    "p, v = mt.AddSegments(p1, p2, closed=True)\n",
    "mt.DoTriMesh(p, v, edge_length=length);"
   ]
  },
  {
   "cell_type": "markdown",
   "id": "3303ac64-5d98-4d75-a9b5-81b2b348e2b2",
   "metadata": {},
   "source": [
    "### Figure 5"
   ]
  },
  {
   "cell_type": "code",
   "execution_count": null,
   "id": "2dc39822-6da2-4c2d-8e76-be91e097da8f",
   "metadata": {},
   "outputs": [],
   "source": [
    "#\n",
    "# rectangle with smooth corners\n",
    "#\n",
    "p, v = mt.ORecSegments([1, 2], [7, 6], 0.3, edge_length=length, num_pc=10)\n",
    "mt.DoTriMesh(p, v, edge_length=length);"
   ]
  },
  {
   "cell_type": "markdown",
   "id": "48319034-6631-449f-9189-97826a74df87",
   "metadata": {},
   "source": [
    "### Figure 6"
   ]
  },
  {
   "cell_type": "code",
   "execution_count": null,
   "id": "265a94cf-c9cc-45ad-bf9b-4ca02edc5935",
   "metadata": {},
   "outputs": [],
   "source": [
    "#\n",
    "# two semicircles\n",
    "#\n",
    "p1, v1 = mt.CircleSegments(\n",
    "    [1.0, 0], 1, a_min=-np.pi / 2, a_max=np.pi / 2, num_points=20\n",
    ")\n",
    "p2, v2 = mt.CircleSegments(\n",
    "    [1, 0], 3, a_min=np.pi / 2.0, a_max=3.0 * np.pi / 2, num_points=20\n",
    ")\n",
    "p, v = mt.AddSegments(p1, p2, closed=True)\n",
    "# plot mesh\n",
    "mt.DoTriMesh(p, v, edge_length=length);"
   ]
  },
  {
   "cell_type": "markdown",
   "id": "7c46029b-50cb-4b00-9785-e475883dbc44",
   "metadata": {},
   "source": [
    "### Figure 7"
   ]
  },
  {
   "cell_type": "code",
   "execution_count": null,
   "id": "1c0403d3-bade-49a8-85fe-a5170bfdacbe",
   "metadata": {},
   "outputs": [],
   "source": [
    "#\n",
    "# boundary curve defined by simple points\n",
    "#\n",
    "t = np.linspace(0, 2 * np.pi, 120)\n",
    "r = 3 + np.sin(8 * t)\n",
    "x = r * np.cos(t)\n",
    "y = r * np.sin(t)\n",
    "p = [(x[j], y[j]) for j in range(len(t))]\n",
    "p1, v1 = mt.PointSegments(p)\n",
    "mt.DoTriMesh(p1, v1, edge_length=length);"
   ]
  },
  {
   "cell_type": "markdown",
   "id": "d4185d69-a93b-4b2d-8dee-960487adfd59",
   "metadata": {},
   "source": [
    "### Figure 8, without meshtools"
   ]
  },
  {
   "cell_type": "code",
   "execution_count": null,
   "id": "aa7295b4-291c-45d8-a4b5-e6bff05773a1",
   "metadata": {},
   "outputs": [],
   "source": [
    "#\n",
    "# Example for using directly triangle\n",
    "#\n",
    "\n",
    "\n",
    "def round_trip_connect(start, end):\n",
    "    return [(i, i + 1) for i in range(start, end)] + [(end, start)]\n",
    "\n",
    "\n",
    "points = [(1, 0), (1, 1), (-1, 1), (-1, -1), (1, -1), (1, 0)]\n",
    "facets = round_trip_connect(0, len(points) - 1)\n",
    "\n",
    "circ_start = len(points)\n",
    "points.extend(\n",
    "    (3 * np.cos(angle), 3 * np.sin(angle))\n",
    "    for angle in np.linspace(0, 2 * np.pi, 29, endpoint=False)\n",
    ")\n",
    "\n",
    "facets.extend(round_trip_connect(circ_start, len(points) - 1))\n",
    "\n",
    "\n",
    "def needs_refinement(vertices, area):\n",
    "    bary = np.sum(np.array(vertices), axis=0) / 3\n",
    "    max_area = 0.01 + abs(la.norm(bary, np.inf) - 1) * 0.1\n",
    "    return bool(area > max_area)\n",
    "\n",
    "\n",
    "info = triangle.MeshInfo()\n",
    "info.set_points(points)\n",
    "info.set_holes([(0, 0)])\n",
    "info.set_facets(facets)\n",
    "\n",
    "mesh = triangle.build(info, refinement_func=needs_refinement)\n",
    "# mesh = triangle.build(info)\n",
    "\n",
    "mesh_points = np.array(mesh.points)\n",
    "mesh_tris = np.array(mesh.elements)\n",
    "\n",
    "print(mesh_points[0:5], \"...\")\n",
    "print(mesh_tris[0:5], \"....\")\n",
    "plt.triplot(mesh_points[:, 0], mesh_points[:, 1], mesh_tris)\n",
    "plt.show()"
   ]
  },
  {
   "cell_type": "markdown",
   "id": "84f14d0f-9610-42b0-b0df-b5d01025e8b7",
   "metadata": {},
   "source": [
    "### Figure 9, Add inner curves"
   ]
  },
  {
   "cell_type": "code",
   "execution_count": null,
   "id": "f32c17c2-21d1-4e92-9624-62c3da778b4d",
   "metadata": {},
   "outputs": [],
   "source": [
    "#\n",
    "# rectangle and inner circle\n",
    "#\n",
    "p1, v1 = mt.RectangleSegments([-2, -2], [2.5, 3], edge_length=length)\n",
    "\n",
    "p2, v2 = mt.CircleSegments([1, 1], 1, edge_length=length / 5)\n",
    "p, v = mt.AddCurves(p1, v1, p2, v2)\n",
    "poi, tri, BouE, li_BE, bou_elem, CuE, li_CE = mt.DoTriMesh(p, v, edge_length=length)\n",
    "print(\"Points, \", poi[0:5], \"...\")\n",
    "print(\"Elements, \", tri[0:5], \"...\")\n",
    "print(\"Boundary Edges\", BouE[0:5], \"...\")\n",
    "print(\"List boundary edges\", li_BE)\n",
    "print(\"Inner Curves\", CuE[0:5], \"...\")\n",
    "print(\"List inner Curve\", li_CE)"
   ]
  },
  {
   "cell_type": "markdown",
   "id": "4205b7df-dea3-418d-8725-bd7576b3e10a",
   "metadata": {},
   "source": [
    "### Figure 10"
   ]
  },
  {
   "cell_type": "code",
   "execution_count": null,
   "id": "b6a82bae-0ef6-4896-b5cb-782bcb3835cf",
   "metadata": {},
   "outputs": [],
   "source": [
    "#\n",
    "# rectangle and inner line\n",
    "#\n",
    "p1, v1 = mt.RectangleSegments([-2, -2], [2.5, 3], edge_length=length)\n",
    "p2, v2 = mt.LineSegments([0, 0], [1, 1], edge_length=length / 5)\n",
    "\n",
    "\n",
    "p3, v3 = mt.LineSegments([-1, 1], [0, -1], edge_length=length / 5)\n",
    "p4, v4 = mt.LineSegments([0, -1], [1, -1], edge_length=length / 5)\n",
    "# connect line 3 and 4 first\n",
    "p5, v5 = mt.AddSegments(p3, p4)\n",
    "\n",
    "p, v, indizes = mt.AddMultipleCurves(p1, v1, p2, v2, p5, v5)\n",
    "\n",
    "poi, tri, BouE, li_BE, bou_elem, CuE, li_CE = mt.DoTriMesh(p, v, edge_length=length)"
   ]
  },
  {
   "cell_type": "markdown",
   "id": "ff201c3a-f65f-41e4-a68d-7e3a04590738",
   "metadata": {},
   "source": [
    "### Figure 11"
   ]
  },
  {
   "cell_type": "code",
   "execution_count": null,
   "id": "21f930ce-c156-4f9b-8db5-4cb9a3572332",
   "metadata": {},
   "outputs": [],
   "source": [
    "#\n",
    "# rectangle and more complicated inner curves\n",
    "#\n",
    "p1, v1 = mt.RectangleSegments([-2, -2], [2.5, 3], edge_length=length)\n",
    "\n",
    "p2, v2 = mt.CircleSegments([1, 1], 1, edge_length=length / 5)\n",
    "p, v = mt.AddCurves(p1, v1, p2, v2)\n",
    "\n",
    "# use connect if segments might have nearly the same points\n",
    "p3, v3 = mt.LineSegments([-1, -2], [-1, 3], edge_length=length / 4)\n",
    "p, v = mt.AddCurves(p, v, p3, v3, connect=True, eps=1e-12)\n",
    "\n",
    "p4, v4 = mt.LineSegments([-1, 1], [0, 1], edge_length=length / 5)\n",
    "p, v = mt.AddCurves(p, v, p4, v4, connect=True, eps=1e-12)\n",
    "\n",
    "# or shift inner curve slightly\n",
    "\n",
    "epsilon = 1e-6\n",
    "p5, v5 = mt.LineSegments([1, -2 + epsilon], [3 - epsilon, -1], edge_length=length / 5)\n",
    "p, v = mt.AddCurves(p, v, p5, v5)\n",
    "\n",
    "poi, tri, BouE, li_BE, bou_elem, CuE, li_CE = mt.DoTriMesh(p, v, edge_length=length)"
   ]
  },
  {
   "cell_type": "markdown",
   "id": "90d432d9-1829-41f1-a5eb-ecd23a1fde1b",
   "metadata": {},
   "source": [
    "### Figure 12, Holes"
   ]
  },
  {
   "cell_type": "code",
   "execution_count": null,
   "id": "5a35bb11-2ad6-4557-98b9-2446cc7fe355",
   "metadata": {},
   "outputs": [],
   "source": [
    "#\n",
    "# rectangle with holes\n",
    "p1, v1 = mt.LineSegments([-2, -3], [2, -3], num_points=12)\n",
    "p2, v2 = mt.LineSegments([2, 3], [-2, 3], num_points=12)\n",
    "p, v = mt.AddSegments(p1, p2, closed=True)\n",
    "\n",
    "# define the boundary curves of holes\n",
    "p3, v3 = mt.CircleSegments([-0.5, 0.5], 0.5, edge_length=length)\n",
    "p, v = mt.AddCurves(p, v, p3, v3)\n",
    "p4, v4 = mt.CircleSegments([1, -1], 0.5, edge_length=length)\n",
    "p, v = mt.AddCurves(p, v, p4, v4)\n",
    "\n",
    "# the array holes contain points in the regions to be removed\n",
    "poi, tri, BouE, li_BE, bou_elem, CuE, li_CE = mt.DoTriMesh(\n",
    "    p, v, edge_length=length, holes=[(-0.4, 0.4), (0.95, -0.8)]\n",
    ")"
   ]
  },
  {
   "cell_type": "markdown",
   "id": "6af9f075-6b4d-4f26-982d-ccdb45c9a404",
   "metadata": {},
   "source": [
    "### Figure 13, Find closest nodes"
   ]
  },
  {
   "cell_type": "code",
   "execution_count": null,
   "id": "80d6d1d8-3aa9-4676-88ef-18011bfcc391",
   "metadata": {},
   "outputs": [],
   "source": [
    "# boundary nodes\n",
    "# rectangle with holes\n",
    "p, v = mt.RectangleSegments([-2, -3], [2, 3], edge_length=length)\n",
    "\n",
    "p3, v3 = mt.CircleSegments([-0.5, 0.5], 0.5, edge_length=length)\n",
    "p4, v4 = mt.CircleSegments([1, -1], 0.5, edge_length=length)\n",
    "p, v, ii = mt.AddMultipleCurves(p, v, p3, v3, p4, v4)\n",
    "\n",
    "poi, tri, BouE, li_BE, bou_elem, CuE, li_CE = mt.DoTriMesh(\n",
    "    p, v, edge_length=length, holes=[(-0.4, 0.4), (0.95, -0.8)], show=False\n",
    ")\n",
    "\n",
    "# node numbers used for search\n",
    "all_nodes = np.arange(len(poi))\n",
    "# points to be found\n",
    "p0 = [[2 * np.cos(t), 2 * np.sin(t)] for t in np.linspace(0, 2 * np.pi, 15)]\n",
    "\n",
    "# search\n",
    "nn, dd = mt.FindClosestNode(all_nodes, poi, p0)\n",
    "\n",
    "\n",
    "print(\"Points given\\n\", p0)\n",
    "print(\"Node number\\n\", nn)\n",
    "print(\"Distance from p0\\n\", dd)\n",
    "\n",
    "plt.triplot(poi[:, 0], poi[:, 1], tri)\n",
    "plt.plot(poi[nn, 0], poi[nn, 1], \"or\");"
   ]
  },
  {
   "cell_type": "markdown",
   "id": "943592f6-4f12-4bf3-b53d-26ed1950b6a1",
   "metadata": {},
   "source": [
    "### Figure 14 , Find Boundary"
   ]
  },
  {
   "cell_type": "code",
   "execution_count": null,
   "id": "87148906-ef5e-4750-b045-db968b96d096",
   "metadata": {},
   "outputs": [],
   "source": [
    "# take mesh from above\n",
    "\n",
    "# Find boundary nodes/segments between the points below\n",
    "# Two types of boundaries, Nodes or segments\n",
    "# Ps:\n",
    "Ps = [[-2, 3], [2, -3], [-2, 3], [-0.5, 0.5], [-0.5, 0.5], [1, -1], [1, -1]]\n",
    "Ps_types = [\"Nodes\", \"Segments\", \"Nodes\", \"Segments\"]\n",
    "\n",
    "bseg = mt.RetrieveSegments(poi, BouE, li_BE, Ps, Ps_types)\n",
    "for i in range(len(Ps_types)):\n",
    "    print(\"bseg[\", i, \"] : \", Ps_types[i], \"\\n\", bseg[i])\n",
    "\n",
    "# !!!!!!!!!!!!!!!!!!!!!!!!!\n",
    "# bseg[0] contains all nodes (Ps_types[0]) between Ps[0] and Ps[1]\n",
    "# bseg[1] contains all segments (Ps_types[1]) between Ps[1] and Ps[2]\n",
    "# No connection between Ps[2] and Ps[3] , skip\n",
    "# bseg[2] contains all nodes (Ps_types[2]) between Ps[3] and Ps[4]\n",
    "# bseg[3] contains all nodes (Ps_types[3]) between Ps[4] and Ps[5]\n",
    "\n",
    "\n",
    "plt.triplot(poi[:, 0], poi[:, 1], tri)\n",
    "\n",
    "for i in range(len(Ps_types)):\n",
    "    mt.PlotBoundary(poi, bseg[i], Ps_types[i])\n",
    "plt.show()"
   ]
  },
  {
   "cell_type": "markdown",
   "id": "79bbafb9-e201-4913-8b32-9628f2424435",
   "metadata": {},
   "source": [
    "### Figure 15 , Find Inner Curves"
   ]
  },
  {
   "cell_type": "code",
   "execution_count": null,
   "id": "c99a3ba9-4f77-4a10-ac82-e2dd8932360c",
   "metadata": {},
   "outputs": [],
   "source": [
    "#\n",
    "# rectangle with holes\n",
    "p, v = mt.RectangleSegments([-2.0, -3.0], [2, 3.0], edge_length=length)\n",
    "p3, v3 = mt.CircleSegments([-0.5, 0.5], 0.5, edge_length=length / 4)\n",
    "p, v = mt.AddCurves(p, v, p3, v3)\n",
    "p4, v4 = mt.CircleSegments([1, -1], 0.5, edge_length=length / 4)\n",
    "p, v = mt.AddCurves(p, v, p4, v4)\n",
    "poi, tri, BouE, li_BE, bou_elem, CuE, li_CE = mt.DoTriMesh(\n",
    "    p, v, edge_length=length, show=False\n",
    ")\n",
    "\n",
    "# same as before, with CuE and li_DE\n",
    "Ps = [[-0.5, 0.5], [-0.5, 0.5], [1, -1], [1, -1]]\n",
    "Ps_types = [\"Nodes\", \"Segments\"]\n",
    "\n",
    "cseg = mt.RetrieveSegments(poi, CuE, li_CE, Ps, Ps_types)\n",
    "print(\"cseg\", cseg)\n",
    "\n",
    "plt.triplot(poi[:, 0], poi[:, 1], tri)\n",
    "\n",
    "mt.PlotBoundary(poi, cseg[0], \"Nodes\")\n",
    "mt.PlotBoundary(poi, cseg[1], \"Segments\")\n",
    "plt.show()"
   ]
  },
  {
   "cell_type": "markdown",
   "id": "228ca89f-1724-4748-9699-d2b6d8279b04",
   "metadata": {},
   "source": [
    "### Figure 16"
   ]
  },
  {
   "cell_type": "code",
   "execution_count": null,
   "id": "4b682b06-fa37-4cee-934f-234e2dd51f70",
   "metadata": {},
   "outputs": [],
   "source": [
    "#\n",
    "# rectangle and inner line\n",
    "#\n",
    "p1, v1 = mt.RectangleSegments([-2, -2], [2.5, 3], edge_length=length)\n",
    "\n",
    "p2, v2 = mt.CircleSegments([1, 1], 1, edge_length=length / 5)\n",
    "p, v = mt.AddCurves(p1, v1, p2, v2)\n",
    "\n",
    "# use connect if segments might have nearly the same points\n",
    "p3, v3 = mt.LineSegments([-1, -2], [-1, 3], edge_length=length / 4)\n",
    "p, v = mt.AddCurves(p, v, p3, v3, connect=True, eps=1e-12)\n",
    "\n",
    "p4, v4 = mt.LineSegments([-1, 1], [0, 1], edge_length=length / 5)\n",
    "p, v = mt.AddCurves(p, v, p4, v4, connect=True, eps=1e-12)\n",
    "\n",
    "# or shift inner curve slightly away from existing points/curves\n",
    "epsilon = 1e-6\n",
    "p5, v5 = mt.LineSegments([1, -2 + epsilon], [3 - epsilon, -1], edge_length=length / 5)\n",
    "p, v = mt.AddCurves(p, v, p5, v5)\n",
    "\n",
    "poi, tri, BouE, li_BE, bou_elem, CuE, li_CE = mt.DoTriMesh(p, v, edge_length=length)\n",
    "\n",
    "# plot all boundaries and inner curves\n",
    "mt.PlotBoundary(poi, BouE, \"Segments\")\n",
    "mt.PlotBoundary(poi, CuE, \"Curves\")"
   ]
  },
  {
   "cell_type": "markdown",
   "id": "e74dc712-957f-4b42-af13-ec9dc2029ead",
   "metadata": {},
   "source": [
    "### Figure 17, Refinement"
   ]
  },
  {
   "cell_type": "code",
   "execution_count": null,
   "id": "92680253-2c90-47d0-bc74-25d9df2b247a",
   "metadata": {},
   "outputs": [],
   "source": [
    "#\n",
    "# rectangle and local refinement\n",
    "#\n",
    "p1, v1 = mt.RectangleSegments([0, 0], [1, 1], num_points=100)\n",
    "p2, v2 = mt.RectangleSegments([0.05, 0.05], [0.95, 0.95], num_points=40)\n",
    "p, v = mt.AddCurves(p1, v1, p2, v2)\n",
    "p3, v3 = mt.RectangleSegments([0.1, 0.1], [0.9, 0.9], num_points=20)\n",
    "p, v = mt.AddCurves(p, v, p3, v3)\n",
    "mt.DoTriMesh(p, v, edge_length=length);"
   ]
  },
  {
   "cell_type": "markdown",
   "id": "2230ff02-9618-4732-b520-b745ba69c5b0",
   "metadata": {},
   "source": [
    "### Figure 18"
   ]
  },
  {
   "cell_type": "code",
   "execution_count": null,
   "id": "b7d7df4d-aa92-4e26-b9d5-6bd43859fb04",
   "metadata": {},
   "outputs": [],
   "source": [
    "#\n",
    "# 2D curve with local mesh refinement I\n",
    "#\n",
    "#\n",
    "t = np.linspace(0, 2 * np.pi, 120)\n",
    "r = 3 + np.sin(8 * t)\n",
    "x = r * np.cos(t)\n",
    "y = r * np.sin(t)\n",
    "p = [(x[j], y[j]) for j in range(len(t))]\n",
    "p1, v1 = mt.PointSegments(p)\n",
    "# function for refinement\n",
    "\n",
    "\n",
    "def myrefine1(tri_points, area):\n",
    "    center_tri = np.sum(np.array(tri_points), axis=0) / 3.0\n",
    "    x = center_tri[0]\n",
    "    _y = center_tri[1]\n",
    "    if x > 0:\n",
    "        max_area = 0.05 * (1 + 3 * x)\n",
    "    else:\n",
    "        max_area = 0.05\n",
    "    return bool(area > max_area)\n",
    "\n",
    "\n",
    "mt.DoTriMesh(p1, v1, tri_refine=myrefine1);"
   ]
  },
  {
   "cell_type": "code",
   "execution_count": null,
   "id": "20215917-888d-4137-aed3-53d11ab4b275",
   "metadata": {},
   "outputs": [],
   "source": [
    "# function for refinement\n",
    "def myrefine2(tri_points, area):\n",
    "    center_tri = np.sum(np.array(tri_points), axis=0) / 3.0\n",
    "    r = np.sqrt(center_tri[0] ** 2 + center_tri[1] ** 2)\n",
    "    max_area = 0.3 + (0.01 - 0.3) / (1 + 0.5 * (r - 1) ** 2)\n",
    "    return bool(area > max_area)\n",
    "\n",
    "\n",
    "mt.DoTriMesh(p1, v1, tri_refine=myrefine2);"
   ]
  },
  {
   "cell_type": "markdown",
   "id": "60c3e79a-4fa1-4742-b5c5-d6bcbad9fe12",
   "metadata": {},
   "source": [
    "### Figure 19"
   ]
  },
  {
   "cell_type": "code",
   "execution_count": null,
   "id": "419ae0ef-271d-4b2a-8952-ac34614d67a8",
   "metadata": {},
   "outputs": [],
   "source": [
    "#\n",
    "# 2D curve with local refinement II\n",
    "# !! 2 plots\n",
    "#\n",
    "# take p1 from above\n",
    "p2, v2 = mt.CircleSegments([0, 0], 1, edge_length=0.05)\n",
    "p, v = mt.AddCurves(p1, v1, p2, v2)\n",
    "\n",
    "\n",
    "def myrefine3(tri_points, area):\n",
    "    center_tri = np.sum(np.array(tri_points), axis=0) / 3.0\n",
    "    r = np.sqrt(center_tri[0] ** 2 + center_tri[1] ** 2)\n",
    "    max_area = 0.4 + (0.01 - 0.3) / (1 + 0.5 * (r - 1) ** 2)\n",
    "    return bool(area > max_area)\n",
    "\n",
    "\n",
    "poi, tri, BouE, li_BE, bou_elem, CuE, li_CE = mt.DoTriMesh(p, v, tri_refine=myrefine3)"
   ]
  },
  {
   "cell_type": "markdown",
   "id": "26fde227-9d44-4b40-b72f-e38d8ad7b532",
   "metadata": {},
   "source": [
    "### Figure 20"
   ]
  },
  {
   "cell_type": "code",
   "execution_count": null,
   "id": "a9de5900-987b-4bae-9566-7fa395b040da",
   "metadata": {},
   "outputs": [],
   "source": [
    "from scipy.spatial import cKDTree\n",
    "\n",
    "\n",
    "#\n",
    "# 2D curve with local refinement III\n",
    "#\n",
    "#\n",
    "# take p1 from above\n",
    "nodes = range(len(p1))\n",
    "# define tree to speed up node search\n",
    "p1tree = cKDTree(np.array(p1))\n",
    "\n",
    "\n",
    "# function for refinement\n",
    "def myrefine3(tri_points, area):\n",
    "    center_tri = np.sum(np.array(tri_points), axis=0) / 3.0\n",
    "    p0 = [(center_tri[0], center_tri[1])]\n",
    "    _node, r = mt.FindClosestNode(nodes, [], p0, tree=p1tree)\n",
    "    r = r[0]\n",
    "    max_area = 0.3 + (0.01 - 0.3) / (1 + r**2)\n",
    "    return bool(area > max_area)\n",
    "\n",
    "\n",
    "mt.DoTriMesh(p1, v1, tri_refine=myrefine3);"
   ]
  },
  {
   "cell_type": "markdown",
   "id": "fa0ff70f-1d6c-4e92-89a6-b5ef2c1374ba",
   "metadata": {},
   "source": [
    "### Figure 21"
   ]
  },
  {
   "cell_type": "code",
   "execution_count": null,
   "id": "da73da19-a9f8-409a-b57b-5ebed6791759",
   "metadata": {},
   "outputs": [],
   "source": [
    "# Simple mesh rectangle with second order points\n",
    "p, v = mt.RectangleSegments([-1.0, -1.0], [2.5, 3.0], edge_length=length)\n",
    "poi, tri, BouE, li_BE, bou_elem, CuE, li_CE = mt.DoTriMesh(\n",
    "    p, v, edge_length=length, order=2, show=None\n",
    ")\n",
    "\n",
    "plt.triplot(poi[:, 0], poi[:, 1], tri[:, 0:3])\n",
    "maxi = np.max(tri[:, 0:3]) + 1\n",
    "plt.plot(poi[maxi:, 0], poi[maxi:, 1], \"k*\")\n",
    "mt.PlotBoundary(poi, np.array(BouE), \"Segments\")\n",
    "plt.show()\n",
    "print(\"points:\", poi[0:5], \"....\")\n",
    "print(\"elements\", tri[0:5], \"....\")\n",
    "print(\"boundary\", BouE)"
   ]
  },
  {
   "cell_type": "markdown",
   "id": "a582e22d-f57b-4252-b818-dfa8841cb60c",
   "metadata": {},
   "source": [
    "### Figure 22, connect meshes"
   ]
  },
  {
   "cell_type": "code",
   "execution_count": null,
   "id": "df38635e-d937-4aad-9dc3-111aaa1d043b",
   "metadata": {},
   "outputs": [],
   "source": [
    "# connect mesh\n",
    "\n",
    "# mesh A\n",
    "p1, v1 = mt.LineSegments([0, 1], [0, 0], edge_length=length)\n",
    "p2, v2 = mt.LineSegments([0, 0], [1, 0], edge_length=length)\n",
    "p, v = mt.AddSegments(p1, p2)\n",
    "p1, v1 = mt.CircleSegments([0, 0], 1, a_min=0, a_max=np.pi / 2, edge_length=length)\n",
    "p, v = mt.AddSegments(p, p1)\n",
    "pA, tA, bA, lA, bou_elemA, cuA, lcA = mt.DoTriMesh(p, v, edge_length=length)\n",
    "\n",
    "# mesh B\n",
    "p1, v1 = mt.CircleSegments([0, 0], 1, a_min=0, a_max=np.pi / 2, edge_length=length)\n",
    "p2, v2 = mt.LineSegments([0, 1], [2, 2], edge_length=length)\n",
    "p, v = mt.AddSegments(p1, p2)\n",
    "p1, v1 = mt.CircleSegments(\n",
    "    [0, 0], 2 * np.sqrt(2), a_min=np.pi / 4, a_max=0, edge_length=length\n",
    ")\n",
    "p, v = mt.AddSegments(p, p1)\n",
    "p1, v1 = mt.LineSegments([2 * np.sqrt(2), 0], [1, 0], edge_length=length)\n",
    "p, v = mt.AddSegments(p, p1)\n",
    "pB, tB, bB, lB, bou_elemB, cuB, lcB = mt.DoTriMesh(p, v, edge_length=length)\n",
    "\n",
    "# connect\n",
    "p, t, b, bl, idn = mt.ConnectMesh(pA, tA, bA, pB, tB, bB, epsilon=1e-8)\n",
    "plt.triplot(p[:, 0], p[:, 1], t[:, 0:3])\n",
    "k = [x[0] for x in idn]\n",
    "plt.plot(p[k, 0], p[k, 1], \"ro\", mfc=\"none\")\n",
    "\n",
    "mt.PlotBoundary(p, np.array(b), \"Segments\")\n",
    "plt.show()\n",
    "\n",
    "Ps = [[1, 0], [1, 0]]\n",
    "bseg = mt.RetrieveSegments(p, b, bl, Ps, [\"Nodes\"])\n",
    "mt.PlotBoundary(p, bseg[0], \"Nodes\")\n",
    "\n",
    "plt.show()"
   ]
  }
 ],
 "metadata": {
  "kernelspec": {
   "display_name": "Python 3 (ipykernel)",
   "language": "python",
   "name": "python3"
  },
  "language_info": {
   "codemirror_mode": {
    "name": "ipython",
    "version": 3
   },
   "file_extension": ".py",
   "mimetype": "text/x-python",
   "name": "python",
   "nbconvert_exporter": "python",
   "pygments_lexer": "ipython3",
   "version": "3.12.4"
  }
 },
 "nbformat": 4,
 "nbformat_minor": 5
}
